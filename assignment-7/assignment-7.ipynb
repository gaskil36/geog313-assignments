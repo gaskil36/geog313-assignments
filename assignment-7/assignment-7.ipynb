{
 "cells": [
  {
   "cell_type": "markdown",
   "id": "fe0fc427-34dd-47ed-a59c-f4be18013bab",
   "metadata": {},
   "source": [
    "Before running this code: ensure that a data folder is created"
   ]
  },
  {
   "cell_type": "code",
   "execution_count": 1,
   "id": "fb9e5019-0b0d-4531-a167-463a1ab9402c",
   "metadata": {},
   "outputs": [],
   "source": [
    "# Set up AWS\n",
    "# REPLACE the empty strings with your SOURCE COOPERATIVE credentials\n",
    "AWS_ACCESS_KEY_ID = \"SCY4BH5IZ4MW7ILCG73OZYBV\"\n",
    "AWS_SECRET_ACCESS_KEY = \"<HPX3GvZYNB5ymE7qQrpcbnxVQLymfcco5fbmjVRKRqnrDG6ZmzvIGz3zrHRKNyTD\""
   ]
  },
  {
   "cell_type": "code",
   "execution_count": 2,
   "id": "ecd162e5-375c-4d7c-ab02-37980177b0b2",
   "metadata": {},
   "outputs": [],
   "source": [
    "import numpy as np\n",
    "import boto3\n",
    "import os\n",
    "import dask_geopandas as dg\n",
    "import geopandas as gpd\n",
    "import matplotlib.pyplot as plt"
   ]
  },
  {
   "cell_type": "code",
   "execution_count": 3,
   "id": "42c17b1f-5546-4ef0-bf4a-85ee4b4ded43",
   "metadata": {},
   "outputs": [],
   "source": [
    "# Create s3 client using boto3 library\n",
    "s3_client = boto3.client('s3',\n",
    "                         aws_access_key_id = AWS_ACCESS_KEY_ID, \n",
    "                         aws_secret_access_key = AWS_SECRET_ACCESS_KEY,\n",
    "                         endpoint_url='https://data.source.coop'\n",
    "                        )"
   ]
  },
  {
   "cell_type": "code",
   "execution_count": 50,
   "id": "2634a94d-2c08-4306-aa7b-a79ea74ffe05",
   "metadata": {},
   "outputs": [
    {
     "name": "stderr",
     "output_type": "stream",
     "text": [
      "/opt/conda/envs/assignment-7/lib/python3.12/site-packages/distributed/node.py:187: UserWarning: Port 8787 is already in use.\n",
      "Perhaps you already have a cluster running?\n",
      "Hosting the HTTP server on port 40915 instead\n",
      "  warnings.warn(\n"
     ]
    },
    {
     "name": "stdout",
     "output_type": "stream",
     "text": [
      "http://127.0.0.1:40915/status\n"
     ]
    }
   ],
   "source": [
    "# Start a new Dask cluster\n",
    "from dask.distributed import Client, LocalCluster\n",
    "# cluster = LocalCluster()\n",
    "cluster = LocalCluster(memory_limit='12GB') # I added this, change per system\n",
    "client = Client(cluster)\n",
    "print(client.dashboard_link)"
   ]
  },
  {
   "cell_type": "code",
   "execution_count": 5,
   "id": "a2b9a41a-d738-42b0-936a-a39399785f77",
   "metadata": {},
   "outputs": [],
   "source": [
    "def download_footprints(country_code):\n",
    "    \"\"\"\n",
    "        This function receives the ISO code for a country and downloads the corresponding geoparquet file.\n",
    "        \n",
    "        Parameters\n",
    "        ----------\n",
    "        country_code : string\n",
    "            An string containing the ISO code for the country of interest.\n",
    "        \n",
    "        Returns \n",
    "        -------\n",
    "        geoparquet : geoparquet file\n",
    "            A geoparquet file downloaded to the local directory containing building footprints for the country of interest.\n",
    "        \"\"\"\n",
    "    # Import function to get the available keys from the data\n",
    "    from utils import get_s3_keys\n",
    "\n",
    "    # Define bucket name and get the country_iso prefix\n",
    "    bucket_name = 'vida'\n",
    "    prefix = \"google-microsoft-open-buildings/geoparquet/by_country/country_iso=\"\n",
    "    country_prefix = f\"{prefix}{country_code}\"\n",
    "\n",
    "    # Get the available keys from the data\n",
    "    keys = get_s3_keys(bucket_name, country_prefix, s3_client)\n",
    "\n",
    "    # Download the data for the requested country\n",
    "    for key in keys:\n",
    "        local_fname = f\"./data/{key.split(\"/\")[-1]}\"\n",
    "        if not os.path.exists(local_fname):\n",
    "            print(f\"File not found locally. Downloading from s3...\")\n",
    "            \n",
    "            try:\n",
    "                s3_client.download_file(Bucket = bucket_name,\n",
    "                                        Key = key,\n",
    "                                        Filename = f\"./data/{key.split(\"/\")[-1]}\"\n",
    "                                       )\n",
    "                print(\"Download complete.\")\n",
    "            except:\n",
    "                print(\"An error occurred. Download failed\")\n",
    "        else:\n",
    "            print(\"File already exists locally. No download needed.\")\n",
    "    "
   ]
  },
  {
   "cell_type": "code",
   "execution_count": 6,
   "id": "92858ec9-0cbb-47fc-ad67-16d6012e37ee",
   "metadata": {},
   "outputs": [],
   "source": [
    "def load_data(country_code, blocksize):\n",
    "    \"\"\"\n",
    "        This function reads the downloaded geoparquet file for a country and loads the building footprints.\n",
    "        \n",
    "        Parameters\n",
    "        ----------\n",
    "        country_code : string\n",
    "            An string containing the ISO code for the country of interest.\n",
    "        blocksize : int\n",
    "            An integer specifying the block size for Dask partitions. Decreasing can help with memory issues\n",
    "        \n",
    "        Returns \n",
    "        -------\n",
    "        bldg_ddf : Dask Geodataframe\n",
    "            A Dask Geodataframe containing building footprints for the country of interest.\n",
    "        \"\"\"\n",
    "    bldg_ddf = dg.read_parquet(f\"./data/{country_code}*.parquet\", gather_spatial_partitions=False, blocksize=blocksize)\n",
    "\n",
    "    return bldg_ddf"
   ]
  },
  {
   "cell_type": "code",
   "execution_count": 8,
   "id": "aa4f9c0f-42d0-44c2-9f54-63dd955251a8",
   "metadata": {},
   "outputs": [
    {
     "name": "stdout",
     "output_type": "stream",
     "text": [
      "File already exists locally. No download needed.\n"
     ]
    }
   ],
   "source": [
    "# Run the function to download buildidng footprint geoparquet data for Haiti (ISO Code: HTI)\n",
    "download_footprints(\"HTI\")"
   ]
  },
  {
   "cell_type": "code",
   "execution_count": 7,
   "id": "8466a212-1683-4bf9-82aa-8d603701538a",
   "metadata": {},
   "outputs": [],
   "source": [
    "# Run the function to load the building footprints\n",
    "buildings = load_data(\"HTI\", \"128M\")"
   ]
  },
  {
   "cell_type": "code",
   "execution_count": 8,
   "id": "67b8f4ef-83e3-411a-ade2-6aebbab1c9fb",
   "metadata": {},
   "outputs": [
    {
     "data": {
      "text/html": [
       "<div><strong>Dask-GeoPandas GeoDataFrame Structure:</strong></div>\n",
       "<table border=\"1\" class=\"dataframe\">\n",
       "  <thead>\n",
       "    <tr style=\"text-align: right;\">\n",
       "      <th></th>\n",
       "      <th>boundary_id</th>\n",
       "      <th>bf_source</th>\n",
       "      <th>confidence</th>\n",
       "      <th>area_in_meters</th>\n",
       "      <th>s2_id</th>\n",
       "      <th>country_iso</th>\n",
       "      <th>geohash</th>\n",
       "      <th>geometry</th>\n",
       "      <th>bbox</th>\n",
       "    </tr>\n",
       "    <tr>\n",
       "      <th>npartitions=6</th>\n",
       "      <th></th>\n",
       "      <th></th>\n",
       "      <th></th>\n",
       "      <th></th>\n",
       "      <th></th>\n",
       "      <th></th>\n",
       "      <th></th>\n",
       "      <th></th>\n",
       "      <th></th>\n",
       "    </tr>\n",
       "  </thead>\n",
       "  <tbody>\n",
       "    <tr>\n",
       "      <th></th>\n",
       "      <td>int64</td>\n",
       "      <td>object</td>\n",
       "      <td>float64</td>\n",
       "      <td>float64</td>\n",
       "      <td>int64</td>\n",
       "      <td>object</td>\n",
       "      <td>object</td>\n",
       "      <td>geometry</td>\n",
       "      <td>object</td>\n",
       "    </tr>\n",
       "    <tr>\n",
       "      <th></th>\n",
       "      <td>...</td>\n",
       "      <td>...</td>\n",
       "      <td>...</td>\n",
       "      <td>...</td>\n",
       "      <td>...</td>\n",
       "      <td>...</td>\n",
       "      <td>...</td>\n",
       "      <td>...</td>\n",
       "      <td>...</td>\n",
       "    </tr>\n",
       "    <tr>\n",
       "      <th>...</th>\n",
       "      <td>...</td>\n",
       "      <td>...</td>\n",
       "      <td>...</td>\n",
       "      <td>...</td>\n",
       "      <td>...</td>\n",
       "      <td>...</td>\n",
       "      <td>...</td>\n",
       "      <td>...</td>\n",
       "      <td>...</td>\n",
       "    </tr>\n",
       "    <tr>\n",
       "      <th></th>\n",
       "      <td>...</td>\n",
       "      <td>...</td>\n",
       "      <td>...</td>\n",
       "      <td>...</td>\n",
       "      <td>...</td>\n",
       "      <td>...</td>\n",
       "      <td>...</td>\n",
       "      <td>...</td>\n",
       "      <td>...</td>\n",
       "    </tr>\n",
       "    <tr>\n",
       "      <th></th>\n",
       "      <td>...</td>\n",
       "      <td>...</td>\n",
       "      <td>...</td>\n",
       "      <td>...</td>\n",
       "      <td>...</td>\n",
       "      <td>...</td>\n",
       "      <td>...</td>\n",
       "      <td>...</td>\n",
       "      <td>...</td>\n",
       "    </tr>\n",
       "  </tbody>\n",
       "</table>\n",
       "<div>Dask Name: read_parquet, 1 expression</div>"
      ],
      "text/plain": [
       "Dask GeoDataFrame Structure:\n",
       "              boundary_id bf_source confidence area_in_meters  s2_id country_iso geohash  geometry    bbox\n",
       "npartitions=6                                                                                             \n",
       "                    int64    object    float64        float64  int64      object  object  geometry  object\n",
       "                      ...       ...        ...            ...    ...         ...     ...       ...     ...\n",
       "...                   ...       ...        ...            ...    ...         ...     ...       ...     ...\n",
       "                      ...       ...        ...            ...    ...         ...     ...       ...     ...\n",
       "                      ...       ...        ...            ...    ...         ...     ...       ...     ...\n",
       "Dask Name: read_parquet, 1 expression\n",
       "Expr=FromGraph(38cd2ce)"
      ]
     },
     "execution_count": 8,
     "metadata": {},
     "output_type": "execute_result"
    }
   ],
   "source": [
    "buildings"
   ]
  },
  {
   "cell_type": "markdown",
   "id": "12c06a6a-bfb3-4cd6-900c-6c4186d0eda0",
   "metadata": {},
   "source": [
    "# Plot a histogram of the area of all buildings provided by Microsoft as the source\n",
    "## Convert the Dask-Geopandas GeoDataFrame to a Pandas series in order to graph\n",
    "#### This Dask operation took around 3-5 minutes on my machine"
   ]
  },
  {
   "cell_type": "code",
   "execution_count": 10,
   "id": "8a7a2464-fafc-4602-88d9-27b63ca5bfe0",
   "metadata": {},
   "outputs": [],
   "source": [
    "area_in_meters_calc = buildings['area_in_meters'].compute()"
   ]
  },
  {
   "cell_type": "markdown",
   "id": "a94a18e6-b681-4b7b-90f2-fea5800cbbb8",
   "metadata": {},
   "source": [
    "# Displaying the plot:\n",
    "### I tried two methods to display the data on a histogram effectively\n",
    "1. Displaying values less than 1000 meters (mask out the high outliers and max values to view the majority of the data),\n",
    "   as well as using 100 bins\n",
    "3. Applying a logarithmic transformation"
   ]
  },
  {
   "cell_type": "code",
   "execution_count": 11,
   "id": "cd0fb13c-3266-4169-bcdf-c20b00281ce4",
   "metadata": {},
   "outputs": [
    {
     "data": {
      "image/png": "[encoded data removed]",
      "text/plain": [
       "<Figure size 1000x600 with 1 Axes>"
      ]
     },
     "metadata": {},
     "output_type": "display_data"
    }
   ],
   "source": [
    "# Displaying values less than 1000 meters\n",
    "microsoft_buildings = buildings[(buildings['bf_source'] == 'microsoft') & (buildings['area_in_meters'] <= 500)][['area_in_meters']]\n",
    "\n",
    "# Plot the filtered data\n",
    "plt.figure(figsize=(10, 6))\n",
    "plt.hist(microsoft_buildings['area_in_meters'], bins=100, color='blue', edgecolor='black')\n",
    "plt.title('Histogram of Microsoft Building Areas in Haiti (<= 500 sq m)')\n",
    "plt.xlabel('Area in Square Meters')\n",
    "plt.ylabel('Frequency')\n",
    "plt.grid(True)\n",
    "plt.show()"
   ]
  },
  {
   "cell_type": "code",
   "execution_count": 12,
   "id": "3f3116ed-e4bd-4e71-be27-2dc342576d52",
   "metadata": {},
   "outputs": [
    {
     "data": {
      "image/png": "[encoded data removed]",
      "text/plain": [
       "<Figure size 1000x600 with 1 Axes>"
      ]
     },
     "metadata": {},
     "output_type": "display_data"
    }
   ],
   "source": [
    "# Plot histogram\n",
    "microsoft_buildings['log_area'] = np.log(microsoft_buildings['area_in_meters'] + 1)\n",
    "\n",
    "plt.figure(figsize=(10, 6))\n",
    "plt.hist(microsoft_buildings['log_area'], bins=30, color='blue', edgecolor='black')\n",
    "plt.title('Histogram of Microsoft Building Areas in Haiti (log transformed)')\n",
    "plt.xlabel('Area in Square Meters')\n",
    "plt.ylabel('Frequency')\n",
    "plt.grid(True)\n",
    "plt.show()"
   ]
  },
  {
   "cell_type": "markdown",
   "id": "a7a2a75a-aa88-40bc-8f5b-f8627058c3a3",
   "metadata": {},
   "source": [
    "# Counting the number of building footprints that intersect with each other"
   ]
  },
  {
   "cell_type": "code",
   "execution_count": 36,
   "id": "b8dec397-cfc1-4412-b9c3-aceb245c7754",
   "metadata": {},
   "outputs": [
    {
     "name": "stdout",
     "output_type": "stream",
     "text": [
      "<class 'dask_geopandas.expr.GeoDataFrame'>\n"
     ]
    }
   ],
   "source": [
    "print(type(buildings))"
   ]
  },
  {
   "cell_type": "code",
   "execution_count": 37,
   "id": "09b81594-8319-406b-ae7c-adcf49ff3462",
   "metadata": {},
   "outputs": [],
   "source": [
    "from dask_geopandas import sjoin\n",
    "intersections = sjoin(buildings, buildings, how='inner', predicate='intersects')"
   ]
  },
  {
   "cell_type": "code",
   "execution_count": 38,
   "id": "de2fd347-5c52-40c0-aebc-e03192da8891",
   "metadata": {},
   "outputs": [],
   "source": [
    "# Filter out self-intersections using .loc\n",
    "intersections = intersections.loc[intersections.index != intersections[\"index_right\"]]"
   ]
  },
  {
   "cell_type": "code",
   "execution_count": 39,
   "id": "f70ad612-f275-48b8-9060-efd39835daba",
   "metadata": {},
   "outputs": [],
   "source": [
    "# Count the number of intersections for each building\n",
    "intersection_counts = intersections.groupby(intersections.index).size()"
   ]
  },
  {
   "cell_type": "code",
   "execution_count": 40,
   "id": "ac012af5-c640-485b-ad07-4b719c0ca11b",
   "metadata": {},
   "outputs": [],
   "source": [
    "intersections_filtered = intersections.loc[intersections.index != intersections[\"index_right\"]]"
   ]
  },
  {
   "cell_type": "code",
   "execution_count": 41,
   "id": "ec94cefe-17ff-4693-8a69-ae19348cf8c9",
   "metadata": {},
   "outputs": [],
   "source": [
    "# Convert intersection_counts from dask series into a  pandas geoDataFrame\n",
    "intersection_counts_df = intersection_counts.to_frame(name='intersection_count')"
   ]
  },
  {
   "cell_type": "code",
   "execution_count": 42,
   "id": "4f01fea5-9c5d-423d-833c-d4cd58c96293",
   "metadata": {},
   "outputs": [],
   "source": [
    "# Merge the fields of 'bf_source_left' and 'bf_source_right'\n",
    "merged_result = intersections_filtered[['bf_source_left', 'bf_source_right']].merge(\n",
    "    intersection_counts_df, left_index=True, right_index=True, how='left'\n",
    ")"
   ]
  },
  {
   "cell_type": "code",
   "execution_count": 43,
   "id": "08654d29-311e-4df5-b368-8557c1978bec",
   "metadata": {},
   "outputs": [],
   "source": [
    "# Persist in memory so we don't have to calculate again in Dask\n",
    "merged_result = merged_result.persist()"
   ]
  },
  {
   "cell_type": "code",
   "execution_count": 44,
   "id": "4cf7e8b4-32dd-453e-95b7-585263bfc53f",
   "metadata": {},
   "outputs": [],
   "source": [
    "# Compute result\n",
    "merged_result_computed = merged_result.compute()"
   ]
  },
  {
   "cell_type": "code",
   "execution_count": 45,
   "id": "34cdadd7-7f45-4d11-8653-d5a373d931f5",
   "metadata": {},
   "outputs": [
    {
     "name": "stdout",
     "output_type": "stream",
     "text": [
      "       bf_source_left bf_source_right  intersection_count\n",
      "141            google          google                   2\n",
      "295            google          google                   4\n",
      "295            google          google                   4\n",
      "317            google          google                   7\n",
      "317            google          google                   7\n",
      "...               ...             ...                 ...\n",
      "353737         google          google                   4\n",
      "354115         google          google                   3\n",
      "354209         google          google                   5\n",
      "354237         google          google                   2\n",
      "354616         google          google                   4\n",
      "\n",
      "[1988984 rows x 3 columns]\n"
     ]
    }
   ],
   "source": [
    "print(merged_result_computed)"
   ]
  },
  {
   "cell_type": "code",
   "execution_count": 46,
   "id": "97b43375-d1ce-4ab0-a1e6-e5427c55d0a4",
   "metadata": {},
   "outputs": [
    {
     "name": "stdout",
     "output_type": "stream",
     "text": [
      "Total number of intersections: 4179795\n"
     ]
    }
   ],
   "source": [
    "# I divided the result by two since each building index records an intersection with the other (thus it records twice)\n",
    "total_intersections2 =  merged_result_computed['intersection_count'].sum() // 2\n",
    "print(f\"Total number of intersections: {total_intersections2}\")"
   ]
  },
  {
   "cell_type": "markdown",
   "id": "cda7198b-81d7-40d0-b7d2-652e7c00afaa",
   "metadata": {},
   "source": [
    "# Counting the number of Google footprints that intersect with other Google footprints"
   ]
  },
  {
   "cell_type": "code",
   "execution_count": 47,
   "id": "2675fe4d-29b6-4d09-8743-14d9b6c97c35",
   "metadata": {},
   "outputs": [
    {
     "name": "stdout",
     "output_type": "stream",
     "text": [
      "Total number of Google-to-Google intersections: 4178098\n"
     ]
    }
   ],
   "source": [
    "# Google and Google Intersections\n",
    "# Filter the rows where both bf_source_left and bf_source_right are 'google'\n",
    "google_intersections = merged_result_computed[\n",
    "    (merged_result_computed['bf_source_left'] == 'google') & \n",
    "    (merged_result_computed['bf_source_right'] == 'google')\n",
    "]\n",
    "\n",
    "# Sum the intersection counts and divide by 2\n",
    "total_google_intersections = google_intersections['intersection_count'].sum() // 2\n",
    "\n",
    "print(f\"Total number of Google-to-Google intersections: {total_google_intersections}\")\n"
   ]
  },
  {
   "cell_type": "markdown",
   "id": "6bb459aa-dff6-4df1-81df-3e623e58fa0e",
   "metadata": {},
   "source": [
    "# Counting the number of Microsoft footprints that intersect with other Microsoft footprints"
   ]
  },
  {
   "cell_type": "code",
   "execution_count": 48,
   "id": "ba24d9cb-9412-44c7-849a-95b55dc9f495",
   "metadata": {},
   "outputs": [
    {
     "name": "stdout",
     "output_type": "stream",
     "text": [
      "Total number of Microsoft-to-Microsoft intersections: 1697\n"
     ]
    }
   ],
   "source": [
    "# Microsoft and Microsoft Intersections\n",
    "# Filter the rows where both bf_source_left and bf_source_right are 'microsoft'\n",
    "microsoft_intersections = merged_result_computed[\n",
    "    (merged_result_computed['bf_source_left'] == 'microsoft') & \n",
    "    (merged_result_computed['bf_source_right'] == 'microsoft')\n",
    "]\n",
    "\n",
    "# Sum the intersection counts and divide by 2\n",
    "total_microsoft_intersections = microsoft_intersections['intersection_count'].sum() // 2\n",
    "\n",
    "print(f\"Total number of Microsoft-to-Microsoft intersections: {total_microsoft_intersections}\")"
   ]
  },
  {
   "cell_type": "markdown",
   "id": "c4ed2a60-2bfe-4a0e-8265-01c47d3e4388",
   "metadata": {},
   "source": [
    "# Counting the number of Google footprints that intersect with Microsoft footprints"
   ]
  },
  {
   "cell_type": "code",
   "execution_count": 49,
   "id": "ca5ea8f4-8ed3-4408-83ef-ad474ceee0dd",
   "metadata": {},
   "outputs": [
    {
     "name": "stdout",
     "output_type": "stream",
     "text": [
      "Total number of Google-to-Microsoft intersections: 0\n"
     ]
    }
   ],
   "source": [
    "# Google and Microsoft Intersections\n",
    "# Filter the rows where both bf_source_left is 'microsoft' and bf_source_right is g'oogle'\n",
    "# Need to add both cases, left or right, to catch any intersections\n",
    "microsoft_google_intersections = merged_result_computed[\n",
    "    ((merged_result_computed['bf_source_left'] == 'google') & (merged_result_computed['bf_source_right'] == 'microsoft')) |\n",
    "    ((merged_result_computed['bf_source_left'] == 'microsoft') & (merged_result_computed['bf_source_right'] == 'google'))\n",
    "]\n",
    "\n",
    "# Sum the intersection counts and divide by 2\n",
    "total_microsoft_google_intersections = microsoft_google_intersections['intersection_count'].sum() // 2\n",
    "\n",
    "print(f\"Total number of Google-to-Microsoft intersections: {total_microsoft_google_intersections}\")"
   ]
  }
 ],
 "metadata": {
  "kernelspec": {
   "display_name": "Python 3 (ipykernel)",
   "language": "python",
   "name": "python3"
  },
  "language_info": {
   "codemirror_mode": {
    "name": "ipython",
    "version": 3
   },
   "file_extension": ".py",
   "mimetype": "text/x-python",
   "name": "python",
   "nbconvert_exporter": "python",
   "pygments_lexer": "ipython3",
   "version": "3.12.7"
  }
 },
 "nbformat": 4,
 "nbformat_minor": 5
}
