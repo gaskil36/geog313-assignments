{
 "cells": [
  {
   "cell_type": "code",
   "execution_count": 64,
   "id": "f0f52c1a-e186-45bd-b89b-d2f133ca8557",
   "metadata": {
    "tags": []
   },
   "outputs": [],
   "source": [
    "from pystac_client import Client\n",
    "import matplotlib.pyplot as plt"
   ]
  },
  {
   "cell_type": "code",
   "execution_count": 65,
   "id": "60e89d8c-9a36-4c8b-bb06-c6ab8175bc7f",
   "metadata": {
    "tags": []
   },
   "outputs": [],
   "source": [
    "# Connect to the API\n",
    "api_url = \"https://earth-search.aws.element84.com/v1\"\n",
    "client = Client.open(api_url)"
   ]
  },
  {
   "cell_type": "code",
   "execution_count": 66,
   "id": "af7dfa63-9c23-4035-9ce4-fa7eb121de2e",
   "metadata": {
    "tags": []
   },
   "outputs": [
    {
     "name": "stdout",
     "output_type": "stream",
     "text": [
      "Sentinel-2 Pre-Collection 1 Level-2A \n",
      "Copernicus DEM GLO-30\n",
      "NAIP: National Agriculture Imagery Program\n",
      "Copernicus DEM GLO-90\n",
      "Landsat Collection 2 Level-2\n",
      "Sentinel-2 Level-2A\n",
      "Sentinel-2 Level-1C\n",
      "Sentinel-2 Collection 1 Level-2A\n",
      "Sentinel-1 Level-1C Ground Range Detected (GRD)\n"
     ]
    }
   ],
   "source": [
    "# Prints out the title property of all the available collections.\n",
    "collections = client.get_collections()\n",
    "for collection in collections:\n",
    "    print(collection.title)"
   ]
  },
  {
   "cell_type": "code",
   "execution_count": 67,
   "id": "51604049-afa6-44c0-bafc-6bf156909d2a",
   "metadata": {
    "tags": []
   },
   "outputs": [],
   "source": [
    "# Specify coordinates\n",
    "point = dict(type=\"Point\", coordinates=(33.8663, -2.1334))"
   ]
  },
  {
   "cell_type": "code",
   "execution_count": 68,
   "id": "a0ff21b1-cf55-45ff-9545-1c932187e939",
   "metadata": {
    "tags": []
   },
   "outputs": [
    {
     "data": {
      "text/plain": [
       "54"
      ]
     },
     "execution_count": 68,
     "metadata": {},
     "output_type": "execute_result"
    }
   ],
   "source": [
    "# Execute search within time range and query for vegetation percentage\n",
    "search = client.search(\n",
    "    collections=[\"sentinel-2-l2a\"],\n",
    "    intersects=point,\n",
    "    datetime=\"2024-01-01/2024-09-30\",\n",
    "    query=[\"s2:vegetation_percentage\"],\n",
    ")\n",
    "search.matched()"
   ]
  },
  {
   "cell_type": "code",
   "execution_count": 69,
   "id": "30a1b78e-38a3-4240-8f10-366b15547d73",
   "metadata": {
    "tags": []
   },
   "outputs": [
    {
     "name": "stdout",
     "output_type": "stream",
     "text": [
      "2.257975\n",
      "1.711605\n",
      "0.96381\n",
      "2.326616\n",
      "2.884481\n",
      "2.953828\n",
      "3.62576\n",
      "1.933378\n",
      "3.492666\n",
      "3.71721\n",
      "3.650489\n",
      "1.842239\n",
      "1.426489\n",
      "1.171293\n",
      "3.615182\n",
      "12.861533\n",
      "5.055797\n",
      "2.837702\n",
      "10.391184\n",
      "23.59025\n",
      "22.912782\n",
      "21.21966\n",
      "36.395794\n",
      "41.51167\n",
      "2.27085\n",
      "37.849736\n",
      "0.099433\n",
      "30.653569\n",
      "33.621001\n",
      "55.497241\n",
      "21.637051\n",
      "48.142523\n",
      "4.932864\n",
      "42.581713\n",
      "43.419379\n",
      "2.693455\n",
      "0\n",
      "35.272953\n",
      "35.194784\n",
      "59.784341\n",
      "13.702387\n",
      "14.761437\n",
      "8.93931\n",
      "14.080368\n",
      "0\n",
      "23.651297\n",
      "7.282249\n",
      "5.088232\n",
      "5.4008\n",
      "0\n",
      "3.988621\n",
      "8.2e-05\n",
      "22.774218\n",
      "48.955444\n"
     ]
    }
   ],
   "source": [
    "# Print vegetation percentage for each item to confirm\n",
    "items = search.item_collection()\n",
    "for item in items:\n",
    "    print(item.properties[\"s2:vegetation_percentage\"])"
   ]
  },
  {
   "cell_type": "code",
   "execution_count": 70,
   "id": "d7723200-c707-4f46-a6a2-0cb200df2b7f",
   "metadata": {
    "tags": []
   },
   "outputs": [],
   "source": [
    "# Create a list of these vegetation percentages\n",
    "veg_per = [item.properties[\"s2:vegetation_percentage\"] for item in items]"
   ]
  },
  {
   "cell_type": "code",
   "execution_count": 71,
   "id": "05d3ed7d-0021-43f5-b359-57c10b27116f",
   "metadata": {
    "tags": []
   },
   "outputs": [
    {
     "data": {
      "image/png": "[encoded data removed]",
      "text/plain": [
       "<Figure size 640x480 with 1 Axes>"
      ]
     },
     "metadata": {},
     "output_type": "display_data"
    }
   ],
   "source": [
    "# Plot vegetation percetages in 5 bins\n",
    "plt.hist(veg_per, bins=5, edgecolor='black')\n",
    "plt.title(\"Percent Vegetation Cover Present\")\n",
    "plt.xlabel(\"Percent Vegetation\")\n",
    "plt.ylabel(\"Frequency\")\n",
    "plt.show()"
   ]
  },
  {
   "cell_type": "code",
   "execution_count": 72,
   "id": "5f5f0eba-6713-464b-8cc2-e7ebdcf775fc",
   "metadata": {},
   "outputs": [
    {
     "data": {
      "text/plain": [
       "12"
      ]
     },
     "execution_count": 72,
     "metadata": {},
     "output_type": "execute_result"
    }
   ],
   "source": [
    "# Execute query of items that match earlier query parameters, \n",
    "# with <5% cloud coverage and >25% water coverage\n",
    "search_2 = client.search(\n",
    "    collections=[\"sentinel-2-l2a\"],\n",
    "    intersects=point,\n",
    "    datetime=\"2024-01-01/2024-09-30\",\n",
    "    query=[\"eo:cloud_cover<5\", \"s2:water_percentage>0\"],\n",
    ")\n",
    "search_2.matched()"
   ]
  },
  {
   "cell_type": "code",
   "execution_count": 73,
   "id": "b8eb79f7-882d-4855-9d30-1e1908f8fa07",
   "metadata": {
    "tags": []
   },
   "outputs": [
    {
     "name": "stdout",
     "output_type": "stream",
     "text": [
      "S2B_36MWC_20240927_0_L2A\n",
      "S2A_36MWC_20240912_0_L2A\n",
      "S2B_36MWC_20240907_0_L2A\n",
      "S2B_36MWC_20240828_0_L2A\n",
      "S2B_36MWC_20240818_0_L2A\n",
      "S2A_36MWC_20240813_0_L2A\n",
      "S2B_36MWC_20240808_0_L2A\n",
      "S2A_36MWC_20240714_0_L2A\n",
      "S2A_36MWC_20240624_0_L2A\n",
      "S2B_36MWC_20240619_0_L2A\n",
      "S2B_36MWC_20240430_0_L2A\n",
      "S2B_36MWC_20240311_0_L2A\n"
     ]
    }
   ],
   "source": [
    "# Return ID's of each item that matches the query\n",
    "items_2 = search_2.item_collection()\n",
    "for items in items_2:\n",
    "    print(items.id)"
   ]
  }
 ],
 "metadata": {
  "kernelspec": {
   "display_name": "Python 3 (ipykernel)",
   "language": "python",
   "name": "python3"
  },
  "language_info": {
   "codemirror_mode": {
    "name": "ipython",
    "version": 3
   },
   "file_extension": ".py",
   "mimetype": "text/x-python",
   "name": "python",
   "nbconvert_exporter": "python",
   "pygments_lexer": "ipython3",
   "version": "3.10.8"
  }
 },
 "nbformat": 4,
 "nbformat_minor": 5
}
